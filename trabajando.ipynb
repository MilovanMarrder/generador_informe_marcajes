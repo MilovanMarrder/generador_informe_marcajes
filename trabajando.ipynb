{
 "cells": [
  {
   "cell_type": "code",
   "execution_count": 1,
   "id": "d8ebdf7e",
   "metadata": {},
   "outputs": [],
   "source": [
    "from utils.data import etl_df\n",
    "from reportgen.generador import generar_informe\n",
    "\n",
    "import pandas as pd\n",
    "\n",
    "\n",
    "df = etl_df('marcaje.xls')\n",
    "c_departamento = (df['departamento']=='CONTABILIDAD')|(df['departamento']=='MERCADEO')\n",
    "\n",
    "df = df[c_departamento]\n",
    "df.shape\n",
    "\n",
    "departamentos = df['departamento'].unique()\n",
    "for departamento in departamentos:\n",
    "    generar_informe(df[df['departamento']==departamento])"
   ]
  },
  {
   "cell_type": "code",
   "execution_count": null,
   "id": "9aae3b6b",
   "metadata": {},
   "outputs": [
    {
     "name": "stdout",
     "output_type": "stream",
     "text": [
      "Fri\n"
     ]
    }
   ],
   "source": [
    "dia = 'Friday'\n",
    "\n",
    "# solo las primeras 3 letras\n",
    "print( dia)"
   ]
  }
 ],
 "metadata": {
  "kernelspec": {
   "display_name": "venv",
   "language": "python",
   "name": "python3"
  },
  "language_info": {
   "codemirror_mode": {
    "name": "ipython",
    "version": 3
   },
   "file_extension": ".py",
   "mimetype": "text/x-python",
   "name": "python",
   "nbconvert_exporter": "python",
   "pygments_lexer": "ipython3",
   "version": "3.13.3"
  }
 },
 "nbformat": 4,
 "nbformat_minor": 5
}
